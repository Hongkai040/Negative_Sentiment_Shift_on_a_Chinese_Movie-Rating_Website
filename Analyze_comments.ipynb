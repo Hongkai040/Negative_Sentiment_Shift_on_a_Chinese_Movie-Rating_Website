{
 "cells": [
  {
   "attachments": {},
   "cell_type": "markdown",
   "id": "bc9737ef",
   "metadata": {},
   "source": [
    "# Analyzing 4 million movie coments "
   ]
  },
  {
   "cell_type": "code",
   "execution_count": null,
   "id": "08822b7d",
   "metadata": {},
   "outputs": [],
   "source": [
    "import pandas as pd \n",
    "import numpy as np \n",
    "\n",
    "import statsmodels.api as sm\n",
    "import statsmodels.formula.api as smf\n",
    "from stargazer.stargazer import Stargazer\n",
    "\n",
    "# visualization and standard library packages\n",
    "import matplotlib.pyplot as plt\n",
    "import seaborn as sns\n",
    "import csv\n",
    "from tqdm import tqdm\n",
    "from collections import Counter\n",
    "import os\n",
    "\n",
    "%matplotlib inline"
   ]
  },
  {
   "cell_type": "code",
   "execution_count": null,
   "id": "5bd55bc0",
   "metadata": {},
   "outputs": [],
   "source": [
    "cols = ['index', 'comment_time', 'comment_id', 'movie_id', \n",
    "        'user_md5', 'rating', 'content', 'pred_label']\n",
    "comments = pd.read_csv(f'{os.getcwd()}/comments_cleaned.csv', \n",
    "                       usecols=cols, \n",
    "                       dtype={'content': str}, \n",
    "                       index_col='index')\n",
    "comments['comment_time'] = pd.to_datetime(comments['comment_time'])\n",
    "comments = comments.set_index('comment_time')\n",
    "comments_unsort = comments.copy()\n",
    "comments = comments.sort_index()\n",
    "comments"
   ]
  },
  {
   "attachments": {},
   "cell_type": "markdown",
   "id": "dffcd2f4",
   "metadata": {},
   "source": [
    "## Comments info.\n",
    "\n",
    "Ratings are quality assessments"
   ]
  },
  {
   "cell_type": "code",
   "execution_count": null,
   "id": "dfbc6c0e",
   "metadata": {},
   "outputs": [],
   "source": [
    "year_info = {'year':comments.index.year}\n",
    "comments['year'] = year_info['year']\n",
    "\n",
    "comments_count = comments['content'].groupby(comments.index.year).count().tolist()\n",
    "comments_count_df = pd.DataFrame(comments['content'].groupby(comments.index.year).count(), columns=['content'])"
   ]
  },
  {
   "cell_type": "code",
   "execution_count": null,
   "id": "a055464c",
   "metadata": {},
   "outputs": [],
   "source": [
    "def get_rating_by_year(comments, comments_count):\n",
    "    \n",
    "    cur = 0\n",
    "    year = 2005\n",
    "    dic = {}\n",
    "    total_users_dic = {}\n",
    "    for year_num in comments_count:\n",
    "        rating_1 = 0\n",
    "        rating_2 = 0\n",
    "        rating_3 = 0\n",
    "        rating_4 = 0\n",
    "        rating_5 = 0\n",
    "        rating_nan = 0\n",
    "        \n",
    "        # comments with ratings \n",
    "        score_lst = []\n",
    "        users_dic = {}\n",
    "        for x, md5 in tqdm(zip(comments.iloc[cur: cur + year_num]['rating'], \n",
    "                          comments.iloc[cur: cur + year_num]['user_md5'])):\n",
    "            # users_info in one year\n",
    "            if md5 not in users_dic:\n",
    "                users_dic[md5] = 0\n",
    "            users_dic[md5] += 1\n",
    "            \n",
    "            # all users_info\n",
    "            if md5 not in total_users_dic:\n",
    "                total_users_dic[md5] = 0\n",
    "            total_users_dic[md5] += 1\n",
    "            \n",
    "            \n",
    "            if x in set((1.0,)):\n",
    "                rating_1 += 1\n",
    "                score_lst.append(x)\n",
    "            elif x in set((2.0,)):\n",
    "                rating_2 += 1\n",
    "                score_lst.append(x)\n",
    "            elif x in set((3.0,)):\n",
    "                rating_3 += 1\n",
    "                score_lst.append(x)\n",
    "            elif x in set((4.0,)):\n",
    "                rating_4 += 1\n",
    "                score_lst.append(x)\n",
    "            elif x in set((5.0,)):\n",
    "                rating_5 += 1\n",
    "                score_lst.append(x)\n",
    "            else:\n",
    "                rating_nan += 1\n",
    "        \n",
    "        # cal proportion\n",
    "        portion_1 = rating_1/year_num\n",
    "        portion_2 = rating_2/year_num\n",
    "        portion_3 = rating_3/year_num\n",
    "        portion_4 = rating_4/year_num\n",
    "        portion_5 = rating_5/year_num\n",
    "        portion_nan = rating_nan/year_num\n",
    "        \n",
    "        # cal mean and std of ratings\n",
    "        rating_mean = np.array(score_lst).mean()\n",
    "        rating_std = np.array(score_lst).std()\n",
    "        \n",
    "        # user stats\n",
    "        user_num = len(users_dic.values())\n",
    "        user_avg_comments = np.array(list(users_dic.values())).mean()\n",
    "        user_std_comments = np.array(list(users_dic.values())).std()\n",
    "        \n",
    "        dic[year] = [rating_1, rating_2, rating_3, rating_4, rating_5, rating_nan,\n",
    "                    portion_1, portion_2, portion_3, portion_4, portion_5, portion_nan,\n",
    "                    rating_mean, rating_std, user_num, user_avg_comments, user_std_comments]\n",
    "        cur += year_num\n",
    "        year += 1\n",
    "    return dic, total_users_dic"
   ]
  },
  {
   "cell_type": "code",
   "execution_count": null,
   "id": "35195021",
   "metadata": {},
   "outputs": [],
   "source": [
    "dic, user_dic = get_rating_by_year(comments, comments_count)"
   ]
  },
  {
   "cell_type": "code",
   "execution_count": null,
   "id": "18ce4dbd",
   "metadata": {},
   "outputs": [],
   "source": [
    "df = pd.DataFrame(dic, index = ['rating=1.0','rating=2.0', 'rating=3.0', 'rating=4.0', 'rating=5.0', 'rating=NaN',\n",
    "                               'portion_1.0','portion_2.0', 'portion_3.0', 'portion_4.0', 'portion_5.0', 'portion_NaN',\n",
    "                               'rating_mean', 'rating_std', 'user_num', 'user_avg_comments', 'user_std_comments'])\n",
    "x = df.columns\n",
    "\n",
    "fig, ax = plt.subplots(figsize=(12,8))\n",
    "ax.plot(x, \n",
    "        df.loc['portion_1.0', :] + df.loc['portion_2.0', :],\n",
    "        c='royalblue', \n",
    "        linewidth=3,\n",
    "        alpha=0.5,\n",
    "        label='rating=1.0 & rating=2.0')\n",
    "\n",
    "ax.plot(x, \n",
    "        df.loc['portion_3.0', :],\n",
    "        linewidth=3,\n",
    "        alpha=0.5,\n",
    "        color='olivedrab', \n",
    "        label='rating=3.0')\n",
    "\n",
    "ax.plot(x, \n",
    "        df.loc['portion_4.0', :] + df.loc['portion_5.0', :],\n",
    "        linewidth=3,\n",
    "        alpha=0.5,\n",
    "        color='red', \n",
    "        label='rating=4.0 & rating=5.0')\n",
    "\n",
    "ax.plot(x, df.loc['portion_NaN', :],\n",
    "        linewidth=3,\n",
    "        alpha=0.5,\n",
    "        color='k', label='rating=NaN')\n",
    "\n",
    "plt.title(\"Rating Distribution\",fontsize=25)\n",
    "plt.ylabel('Proportion',fontsize=20)\n",
    "plt.ylim([0, 0.6])\n",
    "plt.xticks(fontsize=20)\n",
    "plt.yticks(fontsize=20)\n",
    "plt.legend(loc = 'upper right', fontsize=15)\n",
    "plt.savefig('figs/rating_distribution_2005_2019.png', dpi=600)"
   ]
  },
  {
   "cell_type": "code",
   "execution_count": null,
   "id": "1721a31b",
   "metadata": {},
   "outputs": [],
   "source": [
    "comments_plt = comments.reset_index()\n",
    "# default CI: 95%\n",
    "fig, ax = plt.subplots()\n",
    "fig.set_size_inches(12, 8)\n",
    "sns.lineplot(x=\"year\",y=\"rating\",\n",
    "             data=comments_plt[comments_plt['rating'].isin([1.0, 2.0, 3.0, 4.0, 5.0])],\n",
    "             ci=95)\n",
    "ax.set_yticks([3.0, 3.2, 3.4, 3.6, 3.8, 4.0]);\n",
    "plt.title(\"Mean rating(CI: 95%)\", fontsize=25)\n",
    "plt.ylabel('rating', fontsize=20)\n",
    "plt.xlabel('year', fontsize=20)\n",
    "plt.xticks(fontsize=20)\n",
    "plt.yticks(fontsize=20)\n",
    "plt.savefig('figs/mean_rating_2005_2019.png', dpi=600)"
   ]
  },
  {
   "cell_type": "code",
   "execution_count": null,
   "id": "ab2cec2f",
   "metadata": {
    "scrolled": true
   },
   "outputs": [],
   "source": [
    "# plot number of comments by year\n",
    "fig = plt.figure()\n",
    "fig.set_size_inches(12, 9)\n",
    "ax1 = fig.add_subplot(111)\n",
    "ax1.bar(x = comments_count_df.index, \n",
    "        height = comments_count_df['content'], \n",
    "        width = 0.8, \n",
    "        edgecolor = 'black', \n",
    "        linewidth = 2, \n",
    "        align = 'center', \n",
    "        color = 'royalblue',\n",
    "        alpha=0.2,\n",
    "        yerr = 0.5, \n",
    "        ecolor = 'r',\n",
    "       label='comments')\n",
    "\n",
    "ax2 = ax1.twinx()\n",
    "ax2.plot(x, df.loc['user_num', :], label = 'users',linewidth=3, alpha=0.6)\n",
    "\n",
    "plt.title(\"Number of comments and appeared users by year\", fontsize=25)\n",
    "\n",
    "ax1.set_xlabel('year', fontsize=20)\n",
    "ax1.set_ylabel('Number of Comments', fontsize=20)\n",
    "ax2.set_ylabel('Number of appeared users', fontsize=20)\n",
    "\n",
    "ax1.set_xticklabels(list(range(2002,2022,2)), fontsize=20)\n",
    "ax1.set_yticklabels(list(range(0,1000000,200000)), fontsize=20)\n",
    "ax2.set_yticklabels(list(range(0,300000,50000)), fontsize=20)\n",
    "\n",
    "h1, l1 = ax1.get_legend_handles_labels()\n",
    "h2, l2 = ax2.get_legend_handles_labels()\n",
    "ax1.legend(h1+h2, l1+l2, loc='upper left', fontsize=20)\n",
    "\n",
    "plt.savefig('figs/num_comments_2005_2019.png', dpi=600)"
   ]
  },
  {
   "attachments": {},
   "cell_type": "markdown",
   "id": "95ea76f5",
   "metadata": {},
   "source": [
    "### Movie rating distribution"
   ]
  },
  {
   "cell_type": "code",
   "execution_count": null,
   "id": "5fb31b2f",
   "metadata": {},
   "outputs": [],
   "source": [
    "movie_ids = set(comments['movie_id'])\n",
    "f'number of movies: {len(movie_ids)}'"
   ]
  },
  {
   "cell_type": "code",
   "execution_count": null,
   "id": "9d4665d7",
   "metadata": {},
   "outputs": [],
   "source": [
    "movies_df = pd.read_csv(f'{os.getcwd()}/movies.csv')\n",
    "movies_df = movies_df.rename(columns={'MOVIE_ID':'movie_id',\n",
    "                                    'YEAR':'year'})\n",
    "movies_df.head()"
   ]
  },
  {
   "cell_type": "code",
   "execution_count": null,
   "id": "2b4394b9",
   "metadata": {},
   "outputs": [],
   "source": [
    "movie_year_dic = {}\n",
    "for idx, row in tqdm(movies_df.iterrows()):\n",
    "  movie_year_dic[row['movie_id']] = row['year']"
   ]
  },
  {
   "cell_type": "code",
   "execution_count": null,
   "id": "cf43e572",
   "metadata": {},
   "outputs": [],
   "source": [
    "missing_movies = set()\n",
    "movie_rating_year_dic = {}\n",
    "for idx, row in tqdm(comments.iterrows()):\n",
    "  if row['movie_id'] in movie_year_dic:\n",
    "    if row['movie_id'] not in movie_rating_year_dic:\n",
    "      movie_rating_year_dic[row['movie_id']] = [[], 0]\n",
    "      movie_rating_year_dic[row['movie_id']][1] = movie_year_dic[row['movie_id']]\n",
    "    movie_rating_year_dic[row['movie_id']][0].append(row['rating']) \n",
    "  else:\n",
    "    missing_movies.add(row['movie_id'])\n",
    "'miss {} movies'.format(len(missing_movies))"
   ]
  },
  {
   "cell_type": "code",
   "execution_count": null,
   "id": "b9d7671d",
   "metadata": {},
   "outputs": [],
   "source": [
    "movie_idx = []\n",
    "rating = []\n",
    "year = []\n",
    "for movie, v in movie_rating_year_dic.items():\n",
    "  movie_idx.append(movie)\n",
    "  rating.append(np.nanmean(v[0]))\n",
    "  year.append(v[1])\n",
    "\n",
    "movie_info = {\n",
    "    'movie_id':movie_idx,\n",
    "    'movie_rating':rating,\n",
    "    'release_year': year\n",
    "}\n",
    "df_movie_info = pd.DataFrame(movie_info)\n",
    "nan_rating_mask = df_movie_info['movie_rating'].isnull()"
   ]
  },
  {
   "cell_type": "code",
   "execution_count": null,
   "id": "70fa1b49",
   "metadata": {},
   "outputs": [],
   "source": [
    "year_mask = (df_movie_info['release_year'] >= 2005) & (df_movie_info['release_year'] <= 2019)\n",
    "fig, ax = plt.subplots()\n",
    "fig.set_size_inches(12, 8)\n",
    "sns.lineplot(x='release_year', \n",
    "            y='movie_rating', \n",
    "            data=df_movie_info[~nan_rating_mask & year_mask],\n",
    "            ci=95)\n",
    "plt.title(\"Movie rating infomation (CI: 95%)\",fontsize=25)\n",
    "plt.ylabel('movie rating', fontsize=20)\n",
    "plt.xlabel('release year',fontsize=20)\n",
    "plt.xticks(fontsize=20)\n",
    "plt.yticks(fontsize=20)\n",
    "plt.savefig('figs/movie_rating_info(2005-2019).png', dpi=600)"
   ]
  },
  {
   "attachments": {},
   "cell_type": "markdown",
   "id": "532e7bdb",
   "metadata": {},
   "source": [
    "## Check the Ranking Algorithm\n",
    "\n",
    "In this section, we check whether the ranking algorithm systematically prioritze highly positive or negative comments. "
   ]
  },
  {
   "cell_type": "code",
   "execution_count": null,
   "id": "272f9cf4",
   "metadata": {},
   "outputs": [],
   "source": [
    "movie_comm_rank_dic = {}\n",
    "ranks = []\n",
    "for _, row in tqdm(comments_unsort.iterrows()):\n",
    "    if row['movie_id'] not in movie_comm_rank_dic:\n",
    "        movie_comm_rank_dic[row['movie_id']] = 0\n",
    "    movie_comm_rank_dic[row['movie_id']] += 1    \n",
    "    ranks.append(movie_comm_rank_dic[row['movie_id']])\n",
    "comments_unsort['rank'] = ranks"
   ]
  },
  {
   "cell_type": "code",
   "execution_count": null,
   "id": "e70a96d2",
   "metadata": {},
   "outputs": [],
   "source": [
    "est = sm.OLS(endog=comments_unsort['pred_label'], \n",
    "             exog=sm.add_constant(comments_unsort['rank'])).fit()\n",
    "\n",
    "stargazer = Stargazer([est])\n",
    "stargazer.show_model_numbers(False)\n",
    "stargazer.significant_digits(3)\n",
    "stargazer.show_confidence_intervals(True)\n",
    "stargazer.show_degrees_of_freedom(False)\n",
    "print(stargazer.render_latex())"
   ]
  },
  {
   "cell_type": "code",
   "execution_count": null,
   "id": "733d3a65",
   "metadata": {},
   "outputs": [],
   "source": [
    "del comments_unsort"
   ]
  },
  {
   "attachments": {},
   "cell_type": "markdown",
   "id": "e0e40aee",
   "metadata": {},
   "source": [
    "## Sentiment in the community"
   ]
  },
  {
   "cell_type": "code",
   "execution_count": null,
   "id": "677370ee",
   "metadata": {},
   "outputs": [],
   "source": [
    "def get_sentiment_by_year(comments, comments_count):\n",
    "    '''\n",
    "    get sentiment trend by year. \n",
    "    '''\n",
    "    cur = 0\n",
    "    year = 2005\n",
    "    dic = {}\n",
    "    total_users_dic = {}\n",
    "    for year_num in comments_count:\n",
    "        pos = 0\n",
    "        neu = 0\n",
    "        neg = 0\n",
    "        \n",
    "        # comments with ratings \n",
    "        sentiment_lst = []\n",
    "        users_dic = {}\n",
    "        for sentiment, md5 in tqdm(zip(comments.iloc[cur: cur + year_num]['pred_label'], \n",
    "                          comments.iloc[cur: cur + year_num]['user_md5'])):\n",
    "            # users_info in one year\n",
    "            if md5 not in users_dic:\n",
    "                users_dic[md5] = 0\n",
    "            users_dic[md5] += 1\n",
    "            \n",
    "            # all users_info\n",
    "            if md5 not in total_users_dic:\n",
    "                total_users_dic[md5] = 0\n",
    "            total_users_dic[md5] += 1\n",
    "            \n",
    "            \n",
    "            if sentiment == 1:\n",
    "                pos += 1\n",
    "                sentiment_lst.append(sentiment)\n",
    "            elif sentiment == 0:\n",
    "                neu += 1\n",
    "                sentiment_lst.append(sentiment)\n",
    "            else:\n",
    "                neg += 1\n",
    "                sentiment_lst.append(sentiment)\n",
    "        \n",
    "        # cal proportion\n",
    "        pos_portion = pos/year_num\n",
    "        neu_portion = neu/year_num\n",
    "        neg_portion = neg/year_num\n",
    "        \n",
    "        # cal mean and std of sentiment \n",
    "        sentiment_mean = np.array(sentiment_lst).mean()\n",
    "        sentiment_std = np.array(sentiment_lst).std()\n",
    "        \n",
    "        \n",
    "        dic[year] = [pos, neu, neg, \n",
    "                    pos_portion, neu_portion, neg_portion,\n",
    "                    sentiment_mean, sentiment_std]\n",
    "        cur += year_num\n",
    "        year += 1\n",
    "    return dic, total_users_dic"
   ]
  },
  {
   "cell_type": "code",
   "execution_count": null,
   "id": "af406a68",
   "metadata": {},
   "outputs": [],
   "source": [
    "dic, user_dic = get_sentiment_by_year(comments, comments_count)"
   ]
  },
  {
   "cell_type": "code",
   "execution_count": null,
   "id": "225e15c8",
   "metadata": {},
   "outputs": [],
   "source": [
    "df = pd.DataFrame(dic, index = ['positive','neutral', 'negative',\n",
    "                               'positive_portion','neutral_portion', 'negative_portion',\n",
    "                               'sentiment_mean', 'sentiment_std'])\n",
    "x = df.columns\n",
    "\n",
    "fig, ax = plt.subplots(figsize=(12,8))\n",
    "\n",
    "ax.plot(x, \n",
    "        df.loc['negative_portion', :],\n",
    "        c='royalblue', \n",
    "        linewidth=3,\n",
    "        alpha=0.5,\n",
    "        label='negative')\n",
    "\n",
    "ax.plot(x, \n",
    "        df.loc['neutral_portion', :],\n",
    "        c='olivedrab', \n",
    "        linewidth=3,\n",
    "        alpha=0.5,\n",
    "        label='neutral')\n",
    "\n",
    "ax.plot(x, \n",
    "        df.loc['positive_portion', :],\n",
    "        linewidth=3,\n",
    "        alpha=0.5,\n",
    "        color='red', label='positive')\n",
    "\n",
    "plt.title(\"Sentiment Distribution\",fontsize=25)\n",
    "plt.ylabel('Proportion',fontsize=20)\n",
    "plt.xlabel('year',fontsize=20)\n",
    "plt.xticks(fontsize=20)\n",
    "plt.yticks(fontsize=20)\n",
    "plt.ylim([0.05, 0.65])\n",
    "plt.legend(loc = 'upper right', fontsize=20)\n",
    "plt.savefig('figs/sentiment_distribution_2005_2019.png', dpi=600)"
   ]
  },
  {
   "cell_type": "code",
   "execution_count": null,
   "id": "8a8e3186",
   "metadata": {},
   "outputs": [],
   "source": [
    "comments_plt = comments.reset_index()\n",
    "# default CI: 95%\n",
    "fig, ax = plt.subplots()\n",
    "fig.set_size_inches(12, 8)\n",
    "sns.lineplot(x=\"year\",y=\"pred_label\",\n",
    "             data=comments_plt,\n",
    "             ci=95)\n",
    "\n",
    "plt.title(\"Mean sentiment(CI: 95%)\",fontsize=25)\n",
    "plt.ylabel('mean sentiment', fontsize=20)\n",
    "plt.xlabel('year',fontsize=20)\n",
    "plt.xticks(fontsize=20)\n",
    "plt.yticks(fontsize=20)\n",
    "plt.savefig('figs/mean_sentiment_2005_2019.png', dpi=600)\n",
    "del comments_plt"
   ]
  },
  {
   "attachments": {},
   "cell_type": "markdown",
   "id": "8e9d64b7",
   "metadata": {},
   "source": [
    "### Comparsion between popular and less popular movies"
   ]
  },
  {
   "cell_type": "code",
   "execution_count": null,
   "id": "c0509399",
   "metadata": {},
   "outputs": [],
   "source": [
    "movie_dic = {}\n",
    "for idx, row in tqdm(comments.iterrows()):\n",
    "    if row['movie_id'] not in movie_dic:\n",
    "        movie_dic[row['movie_id']] = 0\n",
    "    movie_dic[row['movie_id']] += 1"
   ]
  },
  {
   "cell_type": "code",
   "execution_count": null,
   "id": "ac30f558",
   "metadata": {},
   "outputs": [],
   "source": [
    "popular_movies = 0\n",
    "comments_from_popular = 0\n",
    "for v in tqdm(movie_dic.values()):\n",
    "    if v >=220:\n",
    "        popular_movies +=1\n",
    "        comments_from_popular += v"
   ]
  },
  {
   "cell_type": "code",
   "execution_count": null,
   "id": "fd207012",
   "metadata": {},
   "outputs": [],
   "source": [
    "movie_popularity = []\n",
    "for idx, row in tqdm(comments.iterrows()):\n",
    "    if movie_dic[row['movie_id']] >= 220:\n",
    "        movie_popularity.append('popular')\n",
    "    else:\n",
    "        movie_popularity.append('less popular')"
   ]
  },
  {
   "cell_type": "code",
   "execution_count": null,
   "id": "891fbb77",
   "metadata": {},
   "outputs": [],
   "source": [
    "comments_movie = pd.concat([comments, \n",
    "                            pd.DataFrame({'popularity':movie_popularity},\n",
    "                                         index=comments.index)], axis=1)\n",
    "comments_movie_plt = comments_movie.reset_index()"
   ]
  },
  {
   "cell_type": "code",
   "execution_count": null,
   "id": "59e271f6",
   "metadata": {
    "scrolled": true
   },
   "outputs": [],
   "source": [
    "# default CI: 95%\n",
    "fig, ax = plt.subplots()\n",
    "fig.set_size_inches(12, 8)\n",
    "sns.lineplot(x=\"year\",y=\"pred_label\",\n",
    "             data=comments_movie_plt,\n",
    "             hue=\"popularity\",\n",
    "             hue_order=['popular', 'less popular'],\n",
    "             ci=95)\n",
    "plt.title(\"Popular moives vs. Less popular movies(CI: 95%)\", fontsize=25)\n",
    "plt.ylabel('mean sentiment',fontsize=20)\n",
    "plt.xlabel('year',fontsize=20)\n",
    "plt.xticks(fontsize=20)\n",
    "plt.yticks(fontsize=20)\n",
    "plt.legend(fontsize=20)\n",
    "plt.savefig('figs/mean_sentiment_comparison_2005_2019.png', dpi=600)"
   ]
  },
  {
   "cell_type": "code",
   "execution_count": null,
   "id": "e54f4166",
   "metadata": {},
   "outputs": [],
   "source": [
    "del comments_movie_plt"
   ]
  },
  {
   "attachments": {},
   "cell_type": "markdown",
   "id": "711f8c80",
   "metadata": {},
   "source": [
    "## Add movie info to comments "
   ]
  },
  {
   "cell_type": "code",
   "execution_count": null,
   "id": "7f3893a9",
   "metadata": {
    "scrolled": false
   },
   "outputs": [],
   "source": [
    "movies_df = movies_df.set_index('movie_id')"
   ]
  },
  {
   "cell_type": "code",
   "execution_count": null,
   "id": "000c5a8e",
   "metadata": {},
   "outputs": [],
   "source": [
    "main_region = []\n",
    "main_genre = []\n",
    "error_movie = []\n",
    "for  idx, movie in tqdm(df_movie_info.iterrows()):\n",
    "    movie_info = movies_df.loc[movie['movie_id']]\n",
    "    try:\n",
    "        region = movie_info['REGIONS'].split('/')[0].strip()\n",
    "        genre = movie_info['GENRES'].split('/')[0].strip()\n",
    "    except AttributeError:\n",
    "        region = 'NaN'\n",
    "        genre = 'NaN'\n",
    "        error_movie.append(idx)\n",
    "    main_region.append(region)\n",
    "    main_genre.append(genre)    "
   ]
  },
  {
   "cell_type": "code",
   "execution_count": null,
   "id": "aba6947b",
   "metadata": {},
   "outputs": [],
   "source": [
    "df_movie_info['genre'] = main_genre\n",
    "df_movie_info['region'] = main_region"
   ]
  },
  {
   "cell_type": "code",
   "execution_count": null,
   "id": "eaf1ed41",
   "metadata": {},
   "outputs": [],
   "source": [
    "df_movie_info.drop(error_movie, axis=0, inplace=True)\n",
    "df_movie_info = df_movie_info.reset_index(drop=True)"
   ]
  },
  {
   "cell_type": "code",
   "execution_count": null,
   "id": "cb17b36b",
   "metadata": {
    "scrolled": true
   },
   "outputs": [],
   "source": [
    "CATEGORICAL_COLS = ['genre', 'region']\n",
    "df_movie_info[CATEGORICAL_COLS] = df_movie_info[CATEGORICAL_COLS].apply(lambda x: x.astype('category'))\n",
    "df_movie_info"
   ]
  },
  {
   "cell_type": "code",
   "execution_count": null,
   "id": "28047745",
   "metadata": {
    "scrolled": true
   },
   "outputs": [],
   "source": [
    "df_movie_info = df_movie_info.set_index('movie_id')\n",
    "df_movie_info"
   ]
  },
  {
   "cell_type": "code",
   "execution_count": null,
   "id": "cca8b8a8",
   "metadata": {},
   "outputs": [],
   "source": [
    "comments = comments.reset_index()"
   ]
  },
  {
   "cell_type": "code",
   "execution_count": null,
   "id": "108d92ad",
   "metadata": {},
   "outputs": [],
   "source": [
    "table = []\n",
    "idx_list = []\n",
    "for idx, comment in tqdm(comments.iterrows()):\n",
    "    try:\n",
    "        info  =  df_movie_info.loc[comment['movie_id']]\n",
    "        table.append([info['movie_rating'], info['release_year'],\n",
    "                      info['genre'], info['region']])\n",
    "    except KeyError:\n",
    "        idx_list.append(idx)\n",
    "        table.append(['NaN', 'NaN', 'NaN', 'NaN'])"
   ]
  },
  {
   "cell_type": "code",
   "execution_count": null,
   "id": "b48ae0d0",
   "metadata": {},
   "outputs": [],
   "source": [
    "comments[['movie_rating', 'movie_release_year', 'genre', 'region']] = table\n",
    "comments.drop(idx_list, axis=0, inplace=True)"
   ]
  },
  {
   "attachments": {},
   "cell_type": "markdown",
   "id": "6846cce9",
   "metadata": {},
   "source": [
    "## Community sentiment\n",
    "\n",
    "Sentiment Change overtime controlling movies "
   ]
  },
  {
   "cell_type": "code",
   "execution_count": null,
   "id": "f8083c7b",
   "metadata": {},
   "outputs": [],
   "source": [
    "comments[['year','movie_rating', 'movie_release_year']] = comments[['year','movie_rating', 'movie_release_year']].apply(lambda x: x.astype('float64'))\n",
    "comments[['genre', 'region']] = comments[['genre', 'region']].apply(lambda x: x.astype('category'))"
   ]
  },
  {
   "cell_type": "code",
   "execution_count": null,
   "id": "97ef2eb3",
   "metadata": {
    "scrolled": true
   },
   "outputs": [],
   "source": [
    "indices = comments[np.isnan([comments['movie_rating']])[0]].index\n",
    "comments.drop(indices, axis=0, inplace=True)\n",
    "comments.reset_index(drop=True)"
   ]
  },
  {
   "cell_type": "code",
   "execution_count": null,
   "id": "0af2bea9",
   "metadata": {},
   "outputs": [],
   "source": [
    "comments['comment_time'] = pd.to_datetime(comments['comment_time'])\n",
    "comments = comments.set_index('comment_time').sort_index()\n",
    "comments['week'] = comments.index.weekofyear"
   ]
  },
  {
   "cell_type": "code",
   "execution_count": null,
   "id": "c3a57749",
   "metadata": {},
   "outputs": [],
   "source": [
    "week_by_year_idx = []\n",
    "idx = 1\n",
    "year = 2005\n",
    "week = 23\n",
    "for _, row in tqdm(comments.iterrows()):\n",
    "    if row['year'] != year:\n",
    "        year = row['year']\n",
    "        week = row['week']\n",
    "        idx += 1\n",
    "    if week != row['week']:\n",
    "        idx += 1\n",
    "        week = row['week']\n",
    "    week_by_year_idx.append(idx)\n",
    "comments['commented_week'] = week_by_year_idx"
   ]
  },
  {
   "cell_type": "code",
   "execution_count": null,
   "id": "f10d8cb3",
   "metadata": {},
   "outputs": [],
   "source": [
    "comm_encoded = pd.get_dummies(comments, columns=['genre', 'region'])\n",
    "comm_encoded"
   ]
  },
  {
   "cell_type": "code",
   "execution_count": null,
   "id": "30a4c443",
   "metadata": {},
   "outputs": [],
   "source": [
    "reg_cols = list(comm_encoded.columns[6:9]) + list(comm_encoded.columns[11:])"
   ]
  },
  {
   "cell_type": "code",
   "execution_count": null,
   "id": "1a4ac14b",
   "metadata": {},
   "outputs": [],
   "source": [
    "comm_encoded_sample = comm_encoded.sample(frac=0.1, random_state=42)\n",
    "year_mask_1 = (comm_encoded_sample['year'] <=2015)\n",
    "est = sm.OLS(endog=comm_encoded_sample[year_mask_1]['pred_label'], \n",
    "             exog=sm.add_constant(comm_encoded_sample[year_mask_1][reg_cols])).fit()\n",
    "\n",
    "stargazer = Stargazer([est])\n",
    "stargazer.show_model_numbers(False)\n",
    "stargazer.significant_digits(3)\n",
    "stargazer.show_confidence_intervals(True)\n",
    "stargazer.show_degrees_of_freedom(False)\n",
    "print(stargazer.render_latex())"
   ]
  },
  {
   "cell_type": "code",
   "execution_count": null,
   "id": "cd61aef3",
   "metadata": {},
   "outputs": [],
   "source": [
    "year_mask_1 = (comments['year'] <=2015)\n",
    "# year_mask_2 = (comments['year'] >2015)\n",
    "est = sm.OLS(endog=comments[year_mask_1]['pred_label'], \n",
    "             exog=sm.add_constant(comments[year_mask_1][['year',\n",
    "                                                         'movie_rating', \n",
    "                                                         'movie_release_year']])).fit()\n",
    "\n",
    "stargazer = Stargazer([est])\n",
    "stargazer.show_model_numbers(False)\n",
    "stargazer.significant_digits(3)\n",
    "stargazer.show_confidence_intervals(True)\n",
    "stargazer.show_degrees_of_freedom(False)\n",
    "print(stargazer.render_latex())"
   ]
  },
  {
   "cell_type": "code",
   "execution_count": null,
   "id": "dfb8b8ea",
   "metadata": {},
   "outputs": [],
   "source": [
    "year_mask_1 = (comments['year'] <=2015)\n",
    "# year_mask_2 = (comments['year'] >2015)\n",
    "est = sm.OLS(endog=comments[year_mask_1]['pred_label'], \n",
    "             exog=sm.add_constant(comments[year_mask_1][['year']])).fit()\n",
    "\n",
    "stargazer = Stargazer([est])\n",
    "stargazer.show_model_numbers(False)\n",
    "stargazer.significant_digits(3)\n",
    "stargazer.show_confidence_intervals(True)\n",
    "stargazer.show_degrees_of_freedom(False)\n",
    "print(stargazer.render_latex())"
   ]
  },
  {
   "attachments": {},
   "cell_type": "markdown",
   "id": "951f2445",
   "metadata": {},
   "source": [
    "## User sentiment"
   ]
  },
  {
   "cell_type": "code",
   "execution_count": null,
   "id": "4884700d",
   "metadata": {},
   "outputs": [],
   "source": [
    "\"95 percenitle user's number of comments is %.1f\"% np.percentile(list(user_dic.values()), 95)"
   ]
  },
  {
   "cell_type": "code",
   "execution_count": null,
   "id": "6e776f13",
   "metadata": {},
   "outputs": [],
   "source": [
    "threshold_comments = int(np.percentile(list(user_dic.values()), 95))\n",
    "is_active = []\n",
    "for idx, row in tqdm(comments.iterrows()):\n",
    "    if user_dic[row['user_md5']] >= threshold_comments: \n",
    "        is_active.append('active')\n",
    "    elif user_dic[row['user_md5']] == 1:\n",
    "        is_active.append('least active')\n",
    "    else:\n",
    "        is_active.append('less active')"
   ]
  },
  {
   "cell_type": "code",
   "execution_count": null,
   "id": "68a821e9",
   "metadata": {},
   "outputs": [],
   "source": [
    "comments.reset_index(inplace=True)\n",
    "user_info = pd.DataFrame({'active_state':is_active}, index=comments.index)\n",
    "comments_user = pd.concat([comments, user_info], axis=1)\n",
    "comments_user[['year']] = comments_user[['year']].apply(lambda x: x.astype('int64'))"
   ]
  },
  {
   "cell_type": "code",
   "execution_count": null,
   "id": "eca70bd2",
   "metadata": {},
   "outputs": [],
   "source": [
    "# default CI: 95%\n",
    "fig, ax = plt.subplots()\n",
    "fig.set_size_inches(16, 12)\n",
    "sns.barplot(x=\"year\",y=\"pred_label\",\n",
    "            data=comments_user,\n",
    "            hue=\"active_state\",\n",
    "            hue_order=['active', 'less active', 'least active'],\n",
    "            ci=95,\n",
    "            capsize=.1,\n",
    "            palette=\"Set2\")\n",
    "plt.title(\"sentiment disparity between users(CI: 95%)\", fontsize=25)\n",
    "plt.ylabel('mean sentiment',fontsize=20)\n",
    "plt.xlabel('year',fontsize=20)\n",
    "plt.xticks(rotation=60,fontsize=20);\n",
    "plt.yticks(fontsize=20);\n",
    "plt.legend(loc = 'upper right',fontsize=20);\n",
    "plt.savefig('figs/sentiment_disparity_2005_2019.png', dpi=600)"
   ]
  },
  {
   "attachments": {},
   "cell_type": "markdown",
   "id": "7935e67a",
   "metadata": {},
   "source": [
    "### Sentiment in user life cycle"
   ]
  },
  {
   "cell_type": "code",
   "execution_count": null,
   "id": "5b12dd9f",
   "metadata": {},
   "outputs": [],
   "source": [
    "# note that this dataframe has been sorted in chronological order. \n",
    "time_period = []\n",
    "user_appearance_dic = {}\n",
    "\n",
    "for _, row in tqdm(comments.iterrows()):\n",
    "    if row['user_md5'] not in user_appearance_dic:\n",
    "        user_appearance_dic[row['user_md5']] = 0\n",
    "    user_appearance_dic[row['user_md5']] += 1\n",
    "    \n",
    "    if user_appearance_dic[row['user_md5']] <= int(user_dic[row['user_md5']]/2):\n",
    "        time_period.append('first stage')\n",
    "    else:\n",
    "        time_period.append('second stage')\n",
    "comments_user['stage'] = time_period"
   ]
  },
  {
   "attachments": {},
   "cell_type": "markdown",
   "id": "acdab719",
   "metadata": {},
   "source": [
    "#### Sentiment change by year"
   ]
  },
  {
   "cell_type": "code",
   "execution_count": null,
   "id": "fa3689d7",
   "metadata": {},
   "outputs": [],
   "source": [
    "user_mask =(comments_user['active_state'] == 'active')\n",
    "# default CI: 95%\n",
    "fig, ax = plt.subplots()\n",
    "fig.set_size_inches(16, 12)\n",
    "sns.pointplot(x=\"year\",y=\"pred_label\",\n",
    "            data=comments_user[user_mask],\n",
    "            ci=95,\n",
    "            hue=\"stage\",\n",
    "            hue_order=['first stage', 'second stage'],\n",
    "            capsize=.1,\n",
    "            palette=\"Set2\")\n",
    "plt.title(\"Sentiment disparity of active users in different stages(CI: 95%)\",fontsize=25)\n",
    "plt.ylabel('sentiment',fontsize=20)\n",
    "plt.xlabel('year',fontsize=20)\n",
    "\n",
    "plt.xticks(rotation=30, fontsize=20);\n",
    "plt.yticks(fontsize=20);\n",
    "plt.legend(loc = 'upper right',fontsize=20);\n",
    "plt.savefig('figs/sentiment_user_difference_stage_change_2005_2019.png', dpi=600)"
   ]
  },
  {
   "cell_type": "code",
   "execution_count": null,
   "id": "adeeb8d5",
   "metadata": {},
   "outputs": [],
   "source": [
    "comments_user.set_index('comment_time', inplace=True)"
   ]
  },
  {
   "cell_type": "code",
   "execution_count": null,
   "id": "befe5ecf",
   "metadata": {},
   "outputs": [],
   "source": [
    "fisrt_stage_mask = (comments_user['active_state'] == 'active') & (comments_user['stage'] == 'first stage')\n",
    "second_stage_mask = (comments_user['active_state'] == 'active') & (comments_user['stage'] == 'second stage')\n",
    "comments_user_count_first = comments_user[fisrt_stage_mask]['content'].groupby(comments_user[fisrt_stage_mask].index.year).count().tolist()                     \n",
    "dic_user_first, _ = get_sentiment_by_year(comments_user[fisrt_stage_mask], comments_user_count_first)\n",
    "df_user_first = pd.DataFrame(dic_user_first, index = ['positive','neutral', 'negative',\n",
    "                               'positive_portion','neutral_portion', 'negative_portion',\n",
    "                               'sentiment_mean', 'sentiment_std'])\n",
    "x = df_user_first.columns"
   ]
  },
  {
   "cell_type": "code",
   "execution_count": null,
   "id": "9b3a5f3f",
   "metadata": {},
   "outputs": [],
   "source": [
    "comments_user_count_second = comments_user[second_stage_mask]['content'].groupby(comments_user[second_stage_mask].index.year).count().tolist()                     \n",
    "dic_user_second, _ = get_sentiment_by_year(comments_user[second_stage_mask], comments_user_count_second)\n",
    "df_user_second = pd.DataFrame(dic_user_second, index = ['positive','neutral', 'negative',\n",
    "                               'positive_portion','neutral_portion', 'negative_portion',\n",
    "                               'sentiment_mean', 'sentiment_std'])"
   ]
  },
  {
   "cell_type": "code",
   "execution_count": null,
   "id": "3c517289",
   "metadata": {},
   "outputs": [],
   "source": [
    "fig, axes = plt.subplots(3)\n",
    "plt.subplots_adjust(hspace=0.25)\n",
    "fig.set_size_inches(8, 12)\n",
    "\n",
    "axes[0].plot(x, df_user_first.loc['negative_portion', :],\n",
    "        color='purple', label='first stage', marker='*', alpha=0.3)\n",
    "axes[0].plot(x, df_user_second.loc['negative_portion', :],\n",
    "        color='purple', label='second stage', marker='.')\n",
    "axes[0].set_title(\"Proportion of negative sentiment\", fontsize=15)\n",
    "axes[0].set_ylabel('Proportion',fontsize=15)\n",
    "axes[0].set_xticks(range(2006, 2020, 2))\n",
    "axes[0].tick_params(labelsize=15)\n",
    "axes[0].legend(fontsize=12)\n",
    "\n",
    "axes[1].plot(x, df_user_first.loc['neutral_portion', :],\n",
    "        color='darkgreen', label='first stage', marker='*', alpha=0.3)\n",
    "axes[1].plot(x, df_user_second.loc['neutral_portion', :],\n",
    "        color='darkgreen', label='second stage', marker='.')\n",
    "axes[1].set_title(\"Proportion of neutral sentiment\", fontsize=15)\n",
    "axes[1].set_ylabel('Proportion', fontsize=15)\n",
    "axes[1].set_xticks(range(2006, 2020, 2))\n",
    "axes[1].tick_params(labelsize=15)\n",
    "axes[1].legend(fontsize=12)\n",
    "\n",
    "axes[2].plot(x, df_user_first.loc['positive_portion', :],\n",
    "        color='red', label='first stage', marker='*', alpha=0.3)\n",
    "axes[2].plot(x, df_user_second.loc['positive_portion', :],\n",
    "        color='red', label='second stage', marker='.')\n",
    "axes[2].set_title(\"Proportion of positive sentiment\", fontsize=15)\n",
    "axes[2].set_ylabel('Proportion', fontsize=15)\n",
    "axes[2].set_xticks(range(2006, 2020, 2))\n",
    "axes[2].tick_params(labelsize=15)\n",
    "axes[2].legend(fontsize=12)\n",
    "\n",
    "plt.savefig('figs/sentiment_proprotion_between_stages_aggregate.png', dpi=600)"
   ]
  },
  {
   "cell_type": "code",
   "execution_count": null,
   "id": "1873d9bc",
   "metadata": {},
   "outputs": [],
   "source": [
    "# backup data\n",
    "# we don't use to_csv() here is because simply use to_csv() would yield \n",
    "# wrongly formatted csv files.\n",
    "def write_csv(example_df, file_dir):\n",
    "  '''\n",
    "  write example DataFrame into the given file directory \n",
    "  '''\n",
    "  with open(file_dir, 'w') as f:\n",
    "    writer = csv.writer(f, delimiter=',')\n",
    "    # write column names \n",
    "    writer.writerow(('index',\n",
    "                     'comment_time',\n",
    "                     'comment_id',\n",
    "                     'movie_id',\n",
    "                     'user_md5',\n",
    "                     'rating',\n",
    "                     'content',\n",
    "                     'pred_label',\n",
    "                     'year',\n",
    "                     'movie_rating',\n",
    "                     'movie_release_year',\n",
    "                     'movie_genre',\n",
    "                     'movie_region',\n",
    "                     'week',\n",
    "                     'commented_week'\n",
    "                     ))\n",
    "    for idx, row in tqdm(example_df.iterrows()):\n",
    "            writer.writerow((idx,\n",
    "                             row['comment_time'],\n",
    "                             row['comment_id'],\n",
    "                             row['movie_id'],\n",
    "                             row['user_md5'],\n",
    "                             row['rating'],\n",
    "                             row['content'],\n",
    "                             row['pred_label'],\n",
    "                             row['year'],\n",
    "                             row['movie_rating'],\n",
    "                             row['movie_release_year'],\n",
    "                             row['movie_genre'],\n",
    "                             row['movie_region'],\n",
    "                             row['week'],\n",
    "                             row['commented_week']\n",
    "                             ))\n",
    "            \n",
    "comments = comments.reset_index()\n",
    "file_dir = 'comments_annotated.csv'\n",
    "write_csv(comments, file_dir)"
   ]
  },
  {
   "attachments": {},
   "cell_type": "markdown",
   "id": "c1eeda06",
   "metadata": {},
   "source": [
    "### Sentiment polarization of all users\n",
    "\n",
    "The paper from Nature scientific report also defined a metric to identity sentiment polarization. \n",
    "\n",
    "$$ \n",
    "  \\rho_{\\sigma}(i) = \\frac{(N_i -2k_i - h_i)(N_i - h_i)}{N_i^2}\n",
    "$$\n",
    "\n",
    "\n",
    "**OLS**"
   ]
  },
  {
   "cell_type": "code",
   "execution_count": null,
   "id": "def05347",
   "metadata": {},
   "outputs": [],
   "source": [
    "user_polar_all = {}\n",
    "for _, row in tqdm(comments_user.iterrows()):\n",
    "    if row['user_md5'] not in user_polar_all:\n",
    "        # all counts, positive, neutral and negative\n",
    "        user_polar_all[row['user_md5']] = [user_dic[row['user_md5']], 0, 0, 0]\n",
    "    \n",
    "    if row['pred_label'] == 1:\n",
    "        user_polar_all[row['user_md5']][1] += 1 \n",
    "    elif row['pred_label'] == 0:\n",
    "        user_polar_all[row['user_md5']][2] += 1\n",
    "    else:\n",
    "        user_polar_all[row['user_md5']][3] += 1  "
   ]
  },
  {
   "cell_type": "code",
   "execution_count": null,
   "id": "110d5281",
   "metadata": {},
   "outputs": [],
   "source": [
    "users = []\n",
    "total = []\n",
    "polar_scores = []\n",
    "\n",
    "for user, item in user_polar_all.items():\n",
    "    users.append(user)\n",
    "    total.append(item[0])\n",
    "    polar_score = (item[0] - 2*item[3] - item[2])*(item[0] - item[2])/(item[0] ** 2)\n",
    "    polar_scores.append(polar_score)\n",
    "    \n",
    "dic_for_reg_polar_all = {'user_md5':users,\n",
    "                         'number_of_comments':total,\n",
    "                         'user_sentiment_polarization':polar_scores}\n",
    "df_user_polar_all = pd.DataFrame(dic_for_reg_polar_all)"
   ]
  },
  {
   "cell_type": "code",
   "execution_count": null,
   "id": "0b764f5f",
   "metadata": {},
   "outputs": [],
   "source": [
    "fig, ax = plt.subplots()\n",
    "fig.set_size_inches(16, 12)\n",
    "sns.regplot(x='number_of_comments', \n",
    "            logx=True,\n",
    "            y='user_sentiment_polarization', \n",
    "            data=df_user_polar_all,\n",
    "            ci=95,\n",
    "            fit_reg=True,\n",
    "            scatter=True,\n",
    "            label=True,\n",
    "            line_kws={'color':'red',\n",
    "                     'alpha':0.5},\n",
    "            marker=\">\")\n",
    "plt.title(\"Sentiment polarization as a function of Comments (CI: 95%)\",fontsize=25)\n",
    "plt.xscale('log')\n",
    "\n",
    "plt.ylabel('user sentiment polarization',fontsize=20)\n",
    "plt.xlabel('number of comments',fontsize=20)\n",
    "plt.xticks(fontsize=20);\n",
    "plt.yticks(fontsize=20);\n",
    "\n",
    "plt.savefig('figs/regression_of_sentiment_polarization_all.png', dpi=600)"
   ]
  },
  {
   "cell_type": "code",
   "execution_count": null,
   "id": "78c7c31a",
   "metadata": {},
   "outputs": [],
   "source": [
    "X = np.log(np.array(df_user_polar_all['number_of_comments'])).reshape(-1,1)\n",
    "df_user_polar_all['log comments'] = X\n",
    "est = sm.OLS(endog=df_user_polar_all['user_sentiment_polarization'], exog=sm.add_constant(df_user_polar_all['log comments'])).fit()\n",
    "\n",
    "stargazer = Stargazer([est])\n",
    "stargazer.show_model_numbers(False)\n",
    "stargazer.significant_digits(3)\n",
    "stargazer.show_confidence_intervals(True)\n",
    "stargazer.show_degrees_of_freedom(False)\n",
    "print(stargazer.render_latex())"
   ]
  },
  {
   "cell_type": "code",
   "execution_count": null,
   "id": "7c3e98bf",
   "metadata": {},
   "outputs": [],
   "source": [
    "# backup data\n",
    "# we don't use to_csv() here is because simply use to_csv() would yield \n",
    "# wrongly formatted csv files.\n",
    "def write_csv(example_df, file_dir):\n",
    "  '''\n",
    "  write example DataFrame into the given file directory \n",
    "  '''\n",
    "  with open(file_dir, 'w') as f:\n",
    "    writer = csv.writer(f, delimiter=',')\n",
    "    # write column names \n",
    "    writer.writerow(('index',\n",
    "                     'user_md5',\n",
    "                     'number_of_comments',\n",
    "                     'user_sentiment_polarization'\n",
    "                     ))\n",
    "    for idx, row in tqdm(example_df.iterrows()):\n",
    "            writer.writerow((idx,\n",
    "                             row['user_md5'],\n",
    "                             row['number_of_comments'],\n",
    "                             row['user_sentiment_polarization']\n",
    "                             ))\n",
    "            \n",
    "file_dir = 'user_polar_info.csv'\n",
    "write_csv(df_user_polar_all, file_dir)"
   ]
  },
  {
   "attachments": {},
   "cell_type": "markdown",
   "id": "7b32368f",
   "metadata": {},
   "source": [
    "**OLS multiple variables**"
   ]
  },
  {
   "cell_type": "code",
   "execution_count": null,
   "id": "f3df9bda",
   "metadata": {},
   "outputs": [],
   "source": [
    "user_movie_ratings = {}\n",
    "enter_time = {}\n",
    "for idx, cmt in tqdm(comments.iterrows()):\n",
    "    if cmt['user_md5'] not in user_movie_ratings:\n",
    "        user_movie_ratings[cmt['user_md5']] = []\n",
    "        enter_time[cmt['user_md5']] = cmt['commented_week']\n",
    "    user_movie_ratings[cmt['user_md5']].append(cmt['movie_rating'])\n",
    "user_avg_movie_rating = {}\n",
    "for user, movie_ratings in user_movie_ratings.items():\n",
    "    user_avg_movie_rating[user] = np.mean(movie_ratings)"
   ]
  },
  {
   "cell_type": "code",
   "execution_count": null,
   "id": "497b901d",
   "metadata": {},
   "outputs": [],
   "source": [
    "user_movie_rating = []\n",
    "user_enter_time = []\n",
    "for idx, user in tqdm(df_user_polar_all.iterrows()):\n",
    "    user_movie_rating.append(user_avg_movie_rating[user['user_md5']])\n",
    "    user_enter_time.append(enter_time[user['user_md5']])"
   ]
  },
  {
   "cell_type": "code",
   "execution_count": null,
   "id": "56993f28",
   "metadata": {
    "scrolled": true
   },
   "outputs": [],
   "source": [
    "df_user_polar_all['enter_time'] = user_enter_time\n",
    "df_user_polar_all['avg_movie_rating'] = user_movie_rating"
   ]
  },
  {
   "cell_type": "code",
   "execution_count": null,
   "id": "d74dc27f",
   "metadata": {
    "scrolled": true
   },
   "outputs": [],
   "source": [
    "X = np.log(np.array(df_user_polar_all['number_of_comments'])).reshape(-1,1)\n",
    "df_user_polar_all['log comments'] = X\n",
    "est = sm.OLS(endog=df_user_polar_all['user_sentiment_polarization'], \n",
    "             exog=sm.add_constant(df_user_polar_all[['log comments',\n",
    "                                                     'avg_movie_rating']])).fit()\n",
    "\n",
    "stargazer = Stargazer([est])\n",
    "stargazer.show_model_numbers(False)\n",
    "stargazer.significant_digits(3)\n",
    "stargazer.show_confidence_intervals(True)\n",
    "stargazer.show_degrees_of_freedom(False)\n",
    "print(stargazer.render_latex())"
   ]
  },
  {
   "cell_type": "code",
   "execution_count": null,
   "id": "560bdd2d",
   "metadata": {},
   "outputs": [],
   "source": [
    "X = np.log(np.array(df_user_polar_all['number_of_comments'])).reshape(-1,1)\n",
    "df_user_polar_all['log comments'] = X\n",
    "est = sm.OLS(endog=df_user_polar_all['user_sentiment_polarization'], \n",
    "             exog=sm.add_constant(df_user_polar_all[['log comments',\n",
    "                                                     'enter_time',\n",
    "                                                     'avg_movie_rating']])).fit()\n",
    "\n",
    "stargazer = Stargazer([est])\n",
    "stargazer.show_model_numbers(False)\n",
    "stargazer.significant_digits(3)\n",
    "stargazer.show_confidence_intervals(True)\n",
    "stargazer.show_degrees_of_freedom(False)\n",
    "print(stargazer.render_latex())"
   ]
  },
  {
   "attachments": {},
   "cell_type": "markdown",
   "id": "b2c2808c",
   "metadata": {},
   "source": [
    "We didn't model movie genre, region, release year into regression as previous results showed that they typically don't have significant influcence on comment sentiments, though it would help improve $R^2$"
   ]
  },
  {
   "attachments": {},
   "cell_type": "markdown",
   "id": "b70f3ba4",
   "metadata": {},
   "source": [
    "**User watch sequence**"
   ]
  },
  {
   "cell_type": "code",
   "execution_count": null,
   "id": "e03b0eb2",
   "metadata": {},
   "outputs": [],
   "source": [
    "user_movie_sequence = {}\n",
    "for _, row in tqdm(comments_user.iterrows()):\n",
    "    if row['user_md5'] not in user_movie_sequence:\n",
    "        user_movie_sequence[row['user_md5']] = {}\n",
    "\n",
    "    user_movie_sequence[row['user_md5']][row['movie_id']]=len(user_movie_sequence[row['user_md5']]) + 1 "
   ]
  },
  {
   "cell_type": "code",
   "execution_count": null,
   "id": "cdf46880",
   "metadata": {},
   "outputs": [],
   "source": [
    "watch_sequence = []\n",
    "movie_rating_lst = []\n",
    "\n",
    "for _, row in tqdm(comments_user.iterrows()):\n",
    "  sequence = user_movie_sequence[row['user_md5']][row['movie_id']]\n",
    "  watch_sequence.append(sequence)\n",
    "  movie_rating_lst.append(df_movie_info.loc[row['movie_id']]['movie_rating'])"
   ]
  },
  {
   "cell_type": "code",
   "execution_count": null,
   "id": "6db83f01",
   "metadata": {},
   "outputs": [],
   "source": [
    "dic_for_watch_sequence_rating = {'watch_sequence':watch_sequence,\n",
    "                                 'movie_rating':movie_rating_lst}\n",
    "df_watch_sequence_rating = pd.DataFrame(dic_for_watch_sequence_rating)\n",
    "nan_rating_mask = df_watch_sequence_rating['movie_rating'].isnull()"
   ]
  },
  {
   "cell_type": "code",
   "execution_count": null,
   "id": "c5551549",
   "metadata": {},
   "outputs": [],
   "source": [
    "fig, ax = plt.subplots()\n",
    "fig.set_size_inches(12, 8)\n",
    "sns.regplot(x='watch_sequence', \n",
    "            logx=True,\n",
    "            y='movie_rating', \n",
    "            data=df_watch_sequence_rating[~nan_rating_mask],\n",
    "            ci=95,\n",
    "            fit_reg=True,\n",
    "            scatter=False,\n",
    "            label=True,\n",
    "            line_kws={'color':'red',\n",
    "                     'alpha':0.5},\n",
    "            marker=\">\")\n",
    "plt.title(\"Movie rating ~ watching sequence (CI: 95%)\",fontsize=25)\n",
    "plt.xscale('log')\n",
    "ax.set_yticks([3.1, 3.2, 3.3, 3.4, 3.5]);\n",
    "\n",
    "plt.ylabel('movie rating',fontsize=20)\n",
    "plt.xlabel('watching sequence',fontsize=20)\n",
    "plt.xticks(fontsize=20);\n",
    "plt.yticks(fontsize=20);\n",
    "# plt.legend(loc='upper right',fontsize=20)\n",
    "\n",
    "plt.savefig('figs/regression_of_movie_rating_watch_sequence_no_scatter.png', dpi=600)"
   ]
  },
  {
   "attachments": {},
   "cell_type": "markdown",
   "id": "1284db96",
   "metadata": {},
   "source": [
    "## For the reverse after 2015"
   ]
  },
  {
   "attachments": {},
   "cell_type": "markdown",
   "id": "a5595892",
   "metadata": {},
   "source": [
    "### mean sentiment vs. proportion of comments from new users by week"
   ]
  },
  {
   "cell_type": "code",
   "execution_count": null,
   "id": "f99bb394",
   "metadata": {
    "scrolled": true
   },
   "outputs": [],
   "source": [
    "comments['comment_time'] = pd.to_datetime(comments['comment_time'])\n",
    "comments = comments.set_index('comment_time')"
   ]
  },
  {
   "cell_type": "code",
   "execution_count": null,
   "id": "dc869263",
   "metadata": {},
   "outputs": [],
   "source": [
    "sentiment_mean = comments['pred_label'].resample('W').mean()\n",
    "comments_num = comments['pred_label'].resample('W').count()\n",
    "sent_comm = pd.DataFrame({'sentiment_mean':sentiment_mean, 'comments_num': comments_num})\n",
    "new_user_by_week = []\n",
    "comments_from_new_user_by_week = []\n",
    "comments_from_old_user_by_week = []\n",
    "user_set = set()\n",
    "\n",
    "for time, item in tqdm(comments.resample('W')):\n",
    "  new_user = set()\n",
    "  comments_from_new_user = 0\n",
    "  comments_from_old_user = 0\n",
    "  # comments in each month\n",
    "  for idx, row in item.iterrows():\n",
    "    if row['user_md5'] not in user_set:\n",
    "      new_user.add(row['user_md5'])\n",
    "      comments_from_new_user += 1\n",
    "    else:\n",
    "      comments_from_old_user += 1\n",
    "  new_user_by_week.append(len(new_user))\n",
    "  comments_from_new_user_by_week.append(comments_from_new_user)\n",
    "  comments_from_old_user_by_week.append(comments_from_old_user)\n",
    "  user_set = user_set.union(new_user)"
   ]
  },
  {
   "cell_type": "code",
   "execution_count": null,
   "id": "aa66d879",
   "metadata": {},
   "outputs": [],
   "source": [
    "user_comments_week_df = pd.DataFrame({'new users': new_user_by_week,\n",
    "                                       'new comments': comments_from_new_user_by_week,\n",
    "                                       'old comments': comments_from_old_user_by_week})\n",
    "new_comments_portion =\\\n",
    "    user_comments_week_df['new comments']/(user_comments_week_df['new comments'] +\\\n",
    "                                           user_comments_week_df['old comments'])\n",
    "\n",
    "sent_comm['comments_from_new_users_proportion'] = new_comments_portion.values"
   ]
  },
  {
   "cell_type": "code",
   "execution_count": null,
   "id": "a82c9b4c",
   "metadata": {},
   "outputs": [],
   "source": [
    "sent_comm"
   ]
  },
  {
   "cell_type": "code",
   "execution_count": null,
   "id": "78a50689",
   "metadata": {},
   "outputs": [],
   "source": [
    "comm_mask_new = (sent_comm['comments_from_new_users_proportion'] <=0.4)\n",
    "# for clarity\n",
    "sent_mask = (sent_comm['sentiment_mean'] <=0.5) & (sent_comm['sentiment_mean'] >= 0) \n",
    "\n",
    "fig, ax = plt.subplots()\n",
    "fig.set_size_inches(16, 12)\n",
    "sns.regplot(x='comments_from_new_users_proportion', \n",
    "            y='sentiment_mean', \n",
    "            data=sent_comm[comm_mask_new & sent_mask],\n",
    "            ci=95,\n",
    "            fit_reg=True,\n",
    "            scatter=True,\n",
    "            label=True,\n",
    "            robust=True,\n",
    "            line_kws={'color':'red',\n",
    "                     'alpha':0.5},\n",
    "            marker=\">\")\n",
    "plt.title(\"Mean Sentiment vs. proportion of comments from new users (CI: 95%)\",fontsize=25)\n",
    "plt.ylabel('mean sentiment by week',fontsize=20)\n",
    "plt.xlabel('proportion of comments from new users by week',fontsize=20)\n",
    "plt.xticks(fontsize=20);\n",
    "plt.yticks(fontsize=20);\n",
    "plt.savefig('figs/regression_of_proportion_of_new_comments_mean_sentiment.png', dpi=600)"
   ]
  },
  {
   "cell_type": "code",
   "execution_count": null,
   "id": "45de9eae",
   "metadata": {
    "scrolled": true
   },
   "outputs": [],
   "source": [
    "est = sm.OLS(endog=sent_comm[comm_mask_new]['sentiment_mean'], \n",
    "             exog=sm.add_constant(sent_comm[comm_mask_new]['comments_from_new_users_proportion'])).fit()\n",
    "\n",
    "stargazer = Stargazer([est])\n",
    "stargazer.show_model_numbers(False)\n",
    "stargazer.significant_digits(3)\n",
    "stargazer.show_confidence_intervals(True)\n",
    "stargazer.show_degrees_of_freedom(False)\n",
    "print(stargazer.render_latex())"
   ]
  },
  {
   "cell_type": "code",
   "execution_count": null,
   "id": "f22507b2",
   "metadata": {},
   "outputs": [],
   "source": [
    "fig, ax = plt.subplots(figsize=(12,8))\n",
    "ax.plot(sent_comm.index[479:], sent_comm.iloc[479:]['comments_from_new_users_proportion'].rolling(4).mean(), \n",
    "        linewidth=3, \n",
    "        alpha=0.6)\n",
    "plt.title(\"Proportion of comments from new users\", fontsize=25)\n",
    "plt.ylabel('Proportion',fontsize=25)\n",
    "plt.xlabel('# by week',fontsize=25)\n",
    "plt.yticks(fontsize=20)\n",
    "plt.xticks(fontsize=20)\n",
    "plt.savefig('figs/proportion_of_new_comments_2014_2019.png', dpi=600) "
   ]
  }
 ],
 "metadata": {
  "kernelspec": {
   "display_name": "Python 3 (ipykernel)",
   "language": "python",
   "name": "python3"
  },
  "language_info": {
   "codemirror_mode": {
    "name": "ipython",
    "version": 3
   },
   "file_extension": ".py",
   "mimetype": "text/x-python",
   "name": "python",
   "nbconvert_exporter": "python",
   "pygments_lexer": "ipython3",
   "version": "3.8.5"
  }
 },
 "nbformat": 4,
 "nbformat_minor": 5
}
